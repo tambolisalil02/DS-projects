{
 "cells": [
  {
   "cell_type": "code",
   "execution_count": 1,
   "id": "372d59b0",
   "metadata": {},
   "outputs": [],
   "source": [
    "import numpy as np"
   ]
  },
  {
   "cell_type": "code",
   "execution_count": 3,
   "id": "c7113cc9",
   "metadata": {},
   "outputs": [],
   "source": [
    "import pandas as pd\n",
    "\n",
    "def sigmoid(x):\n",
    "    return 1/(1+np.exp(-x))"
   ]
  },
  {
   "cell_type": "code",
   "execution_count": 17,
   "id": "32138621",
   "metadata": {},
   "outputs": [],
   "source": [
    "class Logistic_Regression():\n",
    "    def __init__(self,lr=0.001,n_itr=1000):\n",
    "        self.lr=lr\n",
    "        self.n_itr=n_itr\n",
    "        self.m=None\n",
    "        self.c=None\n",
    "        \n",
    "    def fit(self,X,y):\n",
    "        n_samples,n_features = X.shape\n",
    "        self.m = np.zeros(n_features)\n",
    "        self.c=0\n",
    "        \n",
    "        for _ in range(self.n_itr):\n",
    "            linear_pred = np.dot(X,self.m) + self.c\n",
    "            predictions = sigmoid(linear_pred)\n",
    "            \n",
    "            dm = (1/n_samples)*(np.dot(X.T,predictions-y))\n",
    "            dc = (1/n_samples)*(np.sum(predictions - y))\n",
    "            \n",
    "            self.m = self.m - self.lr*dm\n",
    "            self.c = self.c - self.lr*dc\n",
    "            \n",
    "    \n",
    "    def predict(self,X):\n",
    "        linear_pred = np.dot(X,self.m) + self.c\n",
    "        y_pred = sigmoid(linear_pred)\n",
    "        \n",
    "        class_pred = [0 if y<=0.5 else 1 for y in y_pred]\n",
    "        return class_pred\n",
    "    \n",
    "        \n",
    "        "
   ]
  },
  {
   "cell_type": "code",
   "execution_count": 18,
   "id": "a33afd8b",
   "metadata": {},
   "outputs": [],
   "source": [
    "from sklearn.model_selection import train_test_split\n",
    "from sklearn import datasets"
   ]
  },
  {
   "cell_type": "code",
   "execution_count": 19,
   "id": "9692bca7",
   "metadata": {},
   "outputs": [],
   "source": [
    "import matplotlib.pyplot as plt"
   ]
  },
  {
   "cell_type": "code",
   "execution_count": 20,
   "id": "ea6675fc",
   "metadata": {},
   "outputs": [],
   "source": [
    "bc = datasets.load_breast_cancer()\n",
    "X,y = bc.data,bc.target\n",
    "\n",
    "\n",
    "X_train,X_test,Y_train,Y_test = train_test_split(X,y,test_size=0.2 , random_state=1234)"
   ]
  },
  {
   "cell_type": "code",
   "execution_count": 28,
   "id": "ca86e35e",
   "metadata": {},
   "outputs": [],
   "source": [
    "alg = Logistic_Regression(lr=0.001,n_itr=10000)"
   ]
  },
  {
   "cell_type": "code",
   "execution_count": 29,
   "id": "8e064d62",
   "metadata": {},
   "outputs": [
    {
     "name": "stderr",
     "output_type": "stream",
     "text": [
      "C:\\Users\\tambo\\AppData\\Local\\Temp\\ipykernel_14608\\4129999954.py:4: RuntimeWarning: overflow encountered in exp\n",
      "  return 1/(1+np.exp(-x))\n"
     ]
    },
    {
     "name": "stdout",
     "output_type": "stream",
     "text": [
      "0.9122807017543859\n"
     ]
    }
   ],
   "source": [
    "alg.fit(X_train,Y_train)\n",
    "Y_pred = alg.predict(X_test)\n",
    "\n",
    "def accuracy(Y_pred,Y_test):\n",
    "    return np.sum(Y_pred == Y_test)/len(Y_test)\n",
    "\n",
    "acc = accuracy(Y_pred,Y_test)\n",
    "\n",
    "print(acc)"
   ]
  },
  {
   "cell_type": "code",
   "execution_count": null,
   "id": "793446d9",
   "metadata": {},
   "outputs": [],
   "source": []
  }
 ],
 "metadata": {
  "kernelspec": {
   "display_name": "Python 3 (ipykernel)",
   "language": "python",
   "name": "python3"
  },
  "language_info": {
   "codemirror_mode": {
    "name": "ipython",
    "version": 3
   },
   "file_extension": ".py",
   "mimetype": "text/x-python",
   "name": "python",
   "nbconvert_exporter": "python",
   "pygments_lexer": "ipython3",
   "version": "3.11.4"
  }
 },
 "nbformat": 4,
 "nbformat_minor": 5
}
